{
 "cells": [
  {
   "cell_type": "markdown",
   "id": "20222821",
   "metadata": {},
   "source": [
    "## Digital soil mapping of clay content\n",
    "\n",
    "In this tutorial, my goal is to present an easy way to estimate clay content using digital soil mapping approaches. For this, a dataset with n samples with the clay content determined in the laboratory will be used as the target variable to be predicted over an area of n ha. As features, a median reflectance satellite image (Landsat) representing the bare surfaces will be used and a set of spectral indices calculated from Sentinel-2 mean reflectance images from the dry and moist seasons."
   ]
  },
  {
   "cell_type": "code",
   "execution_count": 8,
   "id": "f7384792",
   "metadata": {},
   "outputs": [
    {
     "name": "stdout",
     "output_type": "stream",
     "text": [
      "Requirement already satisfied: seaborn in c:\\users\\frey\\anaconda3\\lib\\site-packages (0.11.1)\n",
      "Requirement already satisfied: pandas>=0.23 in c:\\users\\frey\\anaconda3\\lib\\site-packages (from seaborn) (1.2.4)\n",
      "Requirement already satisfied: matplotlib>=2.2 in c:\\users\\frey\\anaconda3\\lib\\site-packages (from seaborn) (3.3.4)\n",
      "Requirement already satisfied: scipy>=1.0 in c:\\users\\frey\\anaconda3\\lib\\site-packages (from seaborn) (1.5.4)\n",
      "Requirement already satisfied: numpy>=1.15 in c:\\users\\frey\\anaconda3\\lib\\site-packages (from seaborn) (1.19.5)\n",
      "Requirement already satisfied: kiwisolver>=1.0.1 in c:\\users\\frey\\anaconda3\\lib\\site-packages (from matplotlib>=2.2->seaborn) (1.3.1)\n",
      "Requirement already satisfied: pyparsing!=2.0.4,!=2.1.2,!=2.1.6,>=2.0.3 in c:\\users\\frey\\anaconda3\\lib\\site-packages (from matplotlib>=2.2->seaborn) (2.4.7)\n",
      "Requirement already satisfied: cycler>=0.10 in c:\\users\\frey\\anaconda3\\lib\\site-packages (from matplotlib>=2.2->seaborn) (0.10.0)\n",
      "Requirement already satisfied: python-dateutil>=2.1 in c:\\users\\frey\\anaconda3\\lib\\site-packages (from matplotlib>=2.2->seaborn) (2.8.1)\n",
      "Requirement already satisfied: pillow>=6.2.0 in c:\\users\\frey\\anaconda3\\lib\\site-packages (from matplotlib>=2.2->seaborn) (8.2.0)\n",
      "Requirement already satisfied: pytz>=2017.3 in c:\\users\\frey\\anaconda3\\lib\\site-packages (from pandas>=0.23->seaborn) (2021.1)\n",
      "Requirement already satisfied: six in c:\\users\\frey\\anaconda3\\lib\\site-packages (from cycler>=0.10->matplotlib>=2.2->seaborn) (1.15.0)\n"
     ]
    }
   ],
   "source": [
    "## Install libraries\n",
    "!pip install seaborn"
   ]
  },
  {
   "cell_type": "code",
   "execution_count": 32,
   "id": "b53cc6fc",
   "metadata": {},
   "outputs": [],
   "source": [
    "### Load libraries\n",
    "import geopandas as gp\n",
    "import numpy as np\n",
    "import pandas as pd\n",
    "import seaborn as sns\n",
    "import matplotlib.pyplot as plt\n",
    "from shapely.geometry import Point\n"
   ]
  },
  {
   "cell_type": "code",
   "execution_count": 15,
   "id": "e5108056",
   "metadata": {},
   "outputs": [
    {
     "data": {
      "text/html": [
       "<div>\n",
       "<style scoped>\n",
       "    .dataframe tbody tr th:only-of-type {\n",
       "        vertical-align: middle;\n",
       "    }\n",
       "\n",
       "    .dataframe tbody tr th {\n",
       "        vertical-align: top;\n",
       "    }\n",
       "\n",
       "    .dataframe thead th {\n",
       "        text-align: right;\n",
       "    }\n",
       "</style>\n",
       "<table border=\"1\" class=\"dataframe\">\n",
       "  <thead>\n",
       "    <tr style=\"text-align: right;\">\n",
       "      <th></th>\n",
       "      <th>X</th>\n",
       "      <th>Y</th>\n",
       "      <th>Clay.gkg</th>\n",
       "      <th>OM.gkg</th>\n",
       "    </tr>\n",
       "  </thead>\n",
       "  <tbody>\n",
       "    <tr>\n",
       "      <th>0</th>\n",
       "      <td>-47.431591</td>\n",
       "      <td>-22.773409</td>\n",
       "      <td>301</td>\n",
       "      <td>22.21</td>\n",
       "    </tr>\n",
       "    <tr>\n",
       "      <th>1</th>\n",
       "      <td>-47.449435</td>\n",
       "      <td>-22.841908</td>\n",
       "      <td>503</td>\n",
       "      <td>25.02</td>\n",
       "    </tr>\n",
       "    <tr>\n",
       "      <th>2</th>\n",
       "      <td>-47.378210</td>\n",
       "      <td>-22.856072</td>\n",
       "      <td>120</td>\n",
       "      <td>15.00</td>\n",
       "    </tr>\n",
       "    <tr>\n",
       "      <th>3</th>\n",
       "      <td>-47.375972</td>\n",
       "      <td>-22.864430</td>\n",
       "      <td>128</td>\n",
       "      <td>8.00</td>\n",
       "    </tr>\n",
       "    <tr>\n",
       "      <th>4</th>\n",
       "      <td>-47.372973</td>\n",
       "      <td>-22.868192</td>\n",
       "      <td>117</td>\n",
       "      <td>11.00</td>\n",
       "    </tr>\n",
       "  </tbody>\n",
       "</table>\n",
       "</div>"
      ],
      "text/plain": [
       "           X          Y  Clay.gkg  OM.gkg\n",
       "0 -47.431591 -22.773409       301   22.21\n",
       "1 -47.449435 -22.841908       503   25.02\n",
       "2 -47.378210 -22.856072       120   15.00\n",
       "3 -47.375972 -22.864430       128    8.00\n",
       "4 -47.372973 -22.868192       117   11.00"
      ]
     },
     "execution_count": 15,
     "metadata": {},
     "output_type": "execute_result"
    }
   ],
   "source": [
    "### Load dataset\n",
    "dat_clay = pd.read_csv('DSM_clay/dataset.csv', sep=';')\n",
    "dat_clay.head()"
   ]
  },
  {
   "cell_type": "code",
   "execution_count": 17,
   "id": "28bc3ba0",
   "metadata": {},
   "outputs": [
    {
     "data": {
      "text/html": [
       "<style type=\"text/css\">\n",
       "</style>\n",
       "<table id=\"T_6359b\">\n",
       "  <thead>\n",
       "    <tr>\n",
       "      <th class=\"blank level0\" >&nbsp;</th>\n",
       "      <th id=\"T_6359b_level0_col0\" class=\"col_heading level0 col0\" >count</th>\n",
       "      <th id=\"T_6359b_level0_col1\" class=\"col_heading level0 col1\" >mean</th>\n",
       "      <th id=\"T_6359b_level0_col2\" class=\"col_heading level0 col2\" >std</th>\n",
       "      <th id=\"T_6359b_level0_col3\" class=\"col_heading level0 col3\" >min</th>\n",
       "      <th id=\"T_6359b_level0_col4\" class=\"col_heading level0 col4\" >25%</th>\n",
       "      <th id=\"T_6359b_level0_col5\" class=\"col_heading level0 col5\" >50%</th>\n",
       "      <th id=\"T_6359b_level0_col6\" class=\"col_heading level0 col6\" >75%</th>\n",
       "      <th id=\"T_6359b_level0_col7\" class=\"col_heading level0 col7\" >max</th>\n",
       "    </tr>\n",
       "  </thead>\n",
       "  <tbody>\n",
       "    <tr>\n",
       "      <th id=\"T_6359b_level0_row0\" class=\"row_heading level0 row0\" >X</th>\n",
       "      <td id=\"T_6359b_row0_col0\" class=\"data row0 col0\" >388.000000</td>\n",
       "      <td id=\"T_6359b_row0_col1\" class=\"data row0 col1\" >-47.405859</td>\n",
       "      <td id=\"T_6359b_row0_col2\" class=\"data row0 col2\" >0.028572</td>\n",
       "      <td id=\"T_6359b_row0_col3\" class=\"data row0 col3\" >-47.457000</td>\n",
       "      <td id=\"T_6359b_row0_col4\" class=\"data row0 col4\" >-47.429812</td>\n",
       "      <td id=\"T_6359b_row0_col5\" class=\"data row0 col5\" >-47.402296</td>\n",
       "      <td id=\"T_6359b_row0_col6\" class=\"data row0 col6\" >-47.384326</td>\n",
       "      <td id=\"T_6359b_row0_col7\" class=\"data row0 col7\" >-47.345924</td>\n",
       "    </tr>\n",
       "    <tr>\n",
       "      <th id=\"T_6359b_level0_row1\" class=\"row_heading level0 row1\" >Y</th>\n",
       "      <td id=\"T_6359b_row1_col0\" class=\"data row1 col0\" >388.000000</td>\n",
       "      <td id=\"T_6359b_row1_col1\" class=\"data row1 col1\" >-22.865197</td>\n",
       "      <td id=\"T_6359b_row1_col2\" class=\"data row1 col2\" >0.029960</td>\n",
       "      <td id=\"T_6359b_row1_col3\" class=\"data row1 col3\" >-22.907360</td>\n",
       "      <td id=\"T_6359b_row1_col4\" class=\"data row1 col4\" >-22.889000</td>\n",
       "      <td id=\"T_6359b_row1_col5\" class=\"data row1 col5\" >-22.874463</td>\n",
       "      <td id=\"T_6359b_row1_col6\" class=\"data row1 col6\" >-22.842459</td>\n",
       "      <td id=\"T_6359b_row1_col7\" class=\"data row1 col7\" >-22.773409</td>\n",
       "    </tr>\n",
       "    <tr>\n",
       "      <th id=\"T_6359b_level0_row2\" class=\"row_heading level0 row2\" >Clay.gkg</th>\n",
       "      <td id=\"T_6359b_row2_col0\" class=\"data row2 col0\" >388.000000</td>\n",
       "      <td id=\"T_6359b_row2_col1\" class=\"data row2 col1\" >267.840206</td>\n",
       "      <td id=\"T_6359b_row2_col2\" class=\"data row2 col2\" >161.258360</td>\n",
       "      <td id=\"T_6359b_row2_col3\" class=\"data row2 col3\" >13.000000</td>\n",
       "      <td id=\"T_6359b_row2_col4\" class=\"data row2 col4\" >124.000000</td>\n",
       "      <td id=\"T_6359b_row2_col5\" class=\"data row2 col5\" >234.500000</td>\n",
       "      <td id=\"T_6359b_row2_col6\" class=\"data row2 col6\" >418.500000</td>\n",
       "      <td id=\"T_6359b_row2_col7\" class=\"data row2 col7\" >638.000000</td>\n",
       "    </tr>\n",
       "    <tr>\n",
       "      <th id=\"T_6359b_level0_row3\" class=\"row_heading level0 row3\" >OM.gkg</th>\n",
       "      <td id=\"T_6359b_row3_col0\" class=\"data row3 col0\" >388.000000</td>\n",
       "      <td id=\"T_6359b_row3_col1\" class=\"data row3 col1\" >18.600335</td>\n",
       "      <td id=\"T_6359b_row3_col2\" class=\"data row3 col2\" >6.365130</td>\n",
       "      <td id=\"T_6359b_row3_col3\" class=\"data row3 col3\" >5.800000</td>\n",
       "      <td id=\"T_6359b_row3_col4\" class=\"data row3 col4\" >13.200000</td>\n",
       "      <td id=\"T_6359b_row3_col5\" class=\"data row3 col5\" >17.900000</td>\n",
       "      <td id=\"T_6359b_row3_col6\" class=\"data row3 col6\" >23.025000</td>\n",
       "      <td id=\"T_6359b_row3_col7\" class=\"data row3 col7\" >39.000000</td>\n",
       "    </tr>\n",
       "  </tbody>\n",
       "</table>\n"
      ],
      "text/plain": [
       "<pandas.io.formats.style.Styler at 0x233fef03dc0>"
      ]
     },
     "execution_count": 17,
     "metadata": {},
     "output_type": "execute_result"
    }
   ],
   "source": [
    "### Basic statistics of the target variable\n",
    "dat_clay.describe().T.style"
   ]
  },
  {
   "cell_type": "code",
   "execution_count": 30,
   "id": "a377aacb",
   "metadata": {},
   "outputs": [
    {
     "data": {
      "text/plain": [
       "Text(0, 0.5, 'Frequency')"
      ]
     },
     "execution_count": 30,
     "metadata": {},
     "output_type": "execute_result"
    },
    {
     "data": {
      "image/png": "[encoded data removed]",
      "text/plain": [
       "<Figure size 432x288 with 1 Axes>"
      ]
     },
     "metadata": {
      "needs_background": "light"
     },
     "output_type": "display_data"
    }
   ],
   "source": [
    "### Plotting histograms and density plots\n",
    "sns.distplot(dat_clay['Clay.gkg'], hist = True, kde = False, bins = int(180/5), color = 'red', hist_kws = {'edgecolor': 'black'})\n",
    "plt.title('Histogram of Clay content (g/kg)')\n",
    "plt.xlabel('Clay content')\n",
    "plt.ylabel('Frequency')"
   ]
  },
  {
   "cell_type": "code",
   "execution_count": 31,
   "id": "145cac51",
   "metadata": {},
   "outputs": [
    {
     "data": {
      "text/plain": [
       "Text(0, 0.5, 'Frequency')"
      ]
     },
     "execution_count": 31,
     "metadata": {},
     "output_type": "execute_result"
    },
    {
     "data": {
      "image/png": "[encoded data removed]",
      "text/plain": [
       "<Figure size 432x288 with 1 Axes>"
      ]
     },
     "metadata": {
      "needs_background": "light"
     },
     "output_type": "display_data"
    }
   ],
   "source": [
    "### Plotting histograms and density plot\n",
    "sns.distplot(dat_clay['OM.gkg'], hist = True, kde = False, bins = int(180/5), color = 'red', hist_kws = {'edgecolor': 'black'})\n",
    "plt.title('Histogram of OM content (g/kg)')\n",
    "plt.xlabel('OM content')\n",
    "plt.ylabel('Frequency')"
   ]
  },
  {
   "cell_type": "code",
   "execution_count": 41,
   "id": "671f5dc2",
   "metadata": {},
   "outputs": [
    {
     "name": "stdout",
     "output_type": "stream",
     "text": [
      "           X          Y  Clay.gkg  OM.gkg                     geometry\n",
      "0 -47.431591 -22.773409       301   22.21  POINT (-47.43159 -22.77341)\n",
      "1 -47.449435 -22.841908       503   25.02  POINT (-47.44944 -22.84191)\n",
      "2 -47.378210 -22.856072       120   15.00  POINT (-47.37821 -22.85607)\n",
      "3 -47.375972 -22.864430       128    8.00  POINT (-47.37597 -22.86443)\n",
      "4 -47.372973 -22.868192       117   11.00  POINT (-47.37297 -22.86819)\n"
     ]
    },
    {
     "name": "stderr",
     "output_type": "stream",
     "text": [
      "C:\\Users\\FREY\\anaconda3\\envs\\gp_environ\\lib\\site-packages\\pyproj\\crs\\crs.py:131: FutureWarning: '+init=<authority>:<code>' syntax is deprecated. '<authority>:<code>' is the preferred initialization method. When making the change, be mindful of axis order changes: https://pyproj4.github.io/pyproj/stable/gotchas.html#axis-order-changes-in-proj-6\n",
      "  in_crs_string = _prepare_from_proj_string(in_crs_string)\n"
     ]
    },
    {
     "data": {
      "image/png": "[encoded data removed]",
      "text/plain": [
       "<Figure size 432x288 with 1 Axes>"
      ]
     },
     "metadata": {
      "needs_background": "light"
     },
     "output_type": "display_data"
    }
   ],
   "source": [
    "## Convert pandas dataframe into geopandas\n",
    "geo = [Point(xy) for xy in zip(dat_clay['X'], dat_clay['Y'])]\n",
    "CRS = {'init': 'epsg:4326'}\n",
    "dat_clay_gpd = gp.GeoDataFrame(dat_clay, crs=CRS, geometry=geo)\n",
    "print(dat_clay_gpd.head())\n",
    "dat_clay_gpd.plot(marker='o', color = 'red', markersize = 0.5)\n",
    "plt.show()"
   ]
  },
  {
   "cell_type": "code",
   "execution_count": 5,
   "id": "983dadac",
   "metadata": {},
   "outputs": [
    {
     "name": "stdout",
     "output_type": "stream",
     "text": [
      "       MINX     MINY      MAXX      MAXY      CNTX      CNTY     AREA  \\\n",
      "0 -47.45702 -22.9075 -47.30045 -22.77282 -47.37873 -22.84016  0.02109   \n",
      "\n",
      "     PERIM   HEIGHT    WIDTH  \\\n",
      "0  0.58251  0.13468  0.15657   \n",
      "\n",
      "                                            geometry  \n",
      "0  POLYGON ((-47.45702 -22.90750, -47.45702 -22.7...  \n"
     ]
    }
   ],
   "source": [
    "area = gp.read_file('DSM_clay/area_2_temp.shp')\n",
    "print (area)"
   ]
  },
  {
   "cell_type": "code",
   "execution_count": null,
   "id": "7ceac336",
   "metadata": {},
   "outputs": [],
   "source": []
  }
 ],
 "metadata": {
  "kernelspec": {
   "display_name": "gp_environ",
   "language": "python",
   "name": "gp_environ"
  },
  "language_info": {
   "codemirror_mode": {
    "name": "ipython",
    "version": 3
   },
   "file_extension": ".py",
   "mimetype": "text/x-python",
   "name": "python",
   "nbconvert_exporter": "python",
   "pygments_lexer": "ipython3",
   "version": "3.10.2"
  }
 },
 "nbformat": 4,
 "nbformat_minor": 5
}
